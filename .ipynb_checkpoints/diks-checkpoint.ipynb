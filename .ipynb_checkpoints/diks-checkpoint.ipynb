{
 "cells": [
  {
   "cell_type": "code",
   "execution_count": 4,
   "metadata": {},
   "outputs": [],
   "source": [
    "import numpy as np\n",
    "import pandas as pd \n",
    "import json"
   ]
  },
  {
   "cell_type": "code",
   "execution_count": 5,
   "metadata": {},
   "outputs": [],
   "source": [
    "g = { 'a': { 'b': 6, 'd': 1}, 'b': { 'd': 2, 'e': 2, 'c': 5}, 'd': {'b': 2, 'e': 1}, 'e': {'b': 2, 'c': 5}, c:{}}"
   ]
  },
  {
   "cell_type": "code",
   "execution_count": 12,
   "metadata": {},
   "outputs": [
    {
     "name": "stdout",
     "output_type": "stream",
     "text": [
      "  to previous  cost_from_start\n",
      "a  a        a              0.0\n",
      "b  b        x              NaN\n",
      "d  d        x              NaN\n",
      "e  e        x              NaN\n",
      "  to previous  cost_from_start\n",
      "a  a        a              0.0\n",
      "{'b': 6, 'd': 1}\n",
      "{'d': 2, 'e': 2, 'c': 5}\n",
      "{'b': 2, 'e': 1}\n",
      "{'b': 2, 'c': 5}\n",
      "['a', 'b', 'd', 'e']\n",
      "[]\n"
     ]
    }
   ],
   "source": [
    "def dijskstra_greedy(paths, start, finish):\n",
    "    charted = []\n",
    "    uncharted = list(paths.keys())\n",
    "    \n",
    "    df = pd.DataFrame(np.array(uncharted), columns=['to'], index=uncharted)\n",
    "    df['previous'] = 'x'\n",
    "    df['cost_from_start'] = np.NaN\n",
    "\n",
    "    df.at[start, 'previous'] = start\n",
    "    df.at[start, 'cost_from_start'] = 0\n",
    "    \n",
    "    print(df)\n",
    "    print(df.loc[df['previous'] == 'a'])\n",
    "\n",
    "    \n",
    "    for p in uncharted[:]:\n",
    "        print(paths[p])\n",
    "        charted.append(p)\n",
    "        uncharted.remove(p)\n",
    "        \n",
    "    print(charted)\n",
    "    print(uncharted)\n",
    "        \n",
    "dijskstra_greedy(g, 'a', 'c')"
   ]
  }
 ],
 "metadata": {
  "kernelspec": {
   "display_name": "Python 3",
   "language": "python",
   "name": "python3"
  },
  "language_info": {
   "codemirror_mode": {
    "name": "ipython",
    "version": 3
   },
   "file_extension": ".py",
   "mimetype": "text/x-python",
   "name": "python",
   "nbconvert_exporter": "python",
   "pygments_lexer": "ipython3",
   "version": "3.7.4"
  }
 },
 "nbformat": 4,
 "nbformat_minor": 2
}
