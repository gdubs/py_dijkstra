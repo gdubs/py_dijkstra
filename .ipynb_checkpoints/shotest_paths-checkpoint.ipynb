{
 "cells": [
  {
   "cell_type": "code",
   "execution_count": 12,
   "metadata": {
    "scrolled": true
   },
   "outputs": [],
   "source": [
    "#please make sure that numpy and pandas are installed before running the notebook"
   ]
  },
  {
   "cell_type": "code",
   "execution_count": 16,
   "metadata": {},
   "outputs": [],
   "source": [
    "import numpy as np\n",
    "import pandas as pd "
   ]
  },
  {
   "cell_type": "code",
   "execution_count": 15,
   "metadata": {},
   "outputs": [],
   "source": [
    "routes = {\n",
    "            'a': {'b':0, 'c':0, 'd':0},\n",
    "            'd': {'g':0},\n",
    "            'c': {'b':0, 'f':0},\n",
    "            'b': {'c':0, 'f':0, 'e':0},\n",
    "            'g': {'h':0},\n",
    "            'f': {'g':0},\n",
    "            'e': {'g':0},\n",
    "            'h': {}\n",
    "         }"
   ]
  },
  {
   "cell_type": "code",
   "execution_count": 5,
   "metadata": {},
   "outputs": [
    {
     "name": "stdout",
     "output_type": "stream",
     "text": [
      "printing final routes\n",
      "[['a', 'b', 'c', 'f', 'g', 'h'], ['a', 'b', 'f', 'g', 'h'], ['a', 'b', 'e', 'g', 'h'], ['a', 'c', 'b', 'f', 'g', 'h'], ['a', 'c', 'b', 'e', 'g', 'h'], ['a', 'c', 'f', 'g', 'h'], ['a', 'd', 'g', 'h']]\n"
     ]
    }
   ],
   "source": [
    "  \n",
    "def get_paths(graph, start, finish):    \n",
    "    routes = []\n",
    "    routes = get_all_paths(graph, start, finish, [])\n",
    "    print('printing final routes')\n",
    "    print(routes)\n",
    "\n",
    "def get_all_paths(graph, start, finish, charted):\n",
    "    #print('start get all paths')\n",
    "    charted = charted + [start]\n",
    "    #print(charted)\n",
    "    paths = []\n",
    "    #initialize path\n",
    "    if start not in charted:  \n",
    "        return []\n",
    "        \n",
    "    #add last vertex / node\n",
    "    if finish == start:\n",
    "        return [charted]\n",
    "\n",
    "    for p in graph[start]:  \n",
    "        if p not in charted:\n",
    "            create_new = get_all_paths(graph, p, finish, charted)\n",
    "            for new in create_new:\n",
    "                paths.append(new)\n",
    "            \n",
    "        #print(charted)\n",
    "    return paths\n",
    "\n",
    "get_paths(routes, 'a', 'h')"
   ]
  },
  {
   "cell_type": "code",
   "execution_count": 14,
   "metadata": {},
   "outputs": [
    {
     "name": "stdout",
     "output_type": "stream",
     "text": [
      "{'b': 0, 'c': 0, 'd': 0}\n",
      "{'g': 0}\n",
      "{'b': 0, 'f': 0}\n",
      "{'c': 0, 'f': 0, 'e': 0}\n",
      "{'h': 0}\n",
      "{'g': 0}\n",
      "{'g': 0}\n",
      "{}\n",
      "fastest route is\n",
      "['a', 'd', 'g', 'h']\n"
     ]
    },
    {
     "name": "stderr",
     "output_type": "stream",
     "text": [
      "/media/gdubs/Extension1/applications/anaconda3/lib/python3.7/site-packages/ipykernel_launcher.py:18: FutureWarning: `item` has been deprecated and will be removed in a future version\n",
      "/media/gdubs/Extension1/applications/anaconda3/lib/python3.7/site-packages/ipykernel_launcher.py:19: FutureWarning: `item` has been deprecated and will be removed in a future version\n",
      "/media/gdubs/Extension1/applications/anaconda3/lib/python3.7/site-packages/ipykernel_launcher.py:53: FutureWarning: `item` has been deprecated and will be removed in a future version\n"
     ]
    }
   ],
   "source": [
    "def dijskstra_greedy(paths, start, finish):\n",
    "    vertices = list(paths.keys())\n",
    "    df = pd.DataFrame(np.array(vertices), columns=['to'], index=vertices)\n",
    "   \n",
    "    df['previous'] = 'x'\n",
    "    df['cost_from_start'] = 9999999999 #for the sake of efficiency this is the value of infinity\n",
    "    df.astype({'cost_from_start':'int32'}).dtypes\n",
    "      \n",
    "    for p in vertices[:]:\n",
    "        print(paths[p])\n",
    "               \n",
    "        if start == p:\n",
    "            df.at[start, 'previous'] = start\n",
    "            df.at[start, 'cost_from_start'] = 0\n",
    "   \n",
    "        for to in paths[p]:\n",
    "            cost_from_previous = paths[p][to]\n",
    "            recorded_cost_from_start = df.loc[df['to'] == to, 'cost_from_start'].item()\n",
    "            recorded_cost_from_start_of_previous = df.loc[df['to'] == p, 'cost_from_start'].item()\n",
    "            updated_cost_from_start = cost_from_previous + recorded_cost_from_start_of_previous\n",
    "           \n",
    "            if p == start:\n",
    "                updated_cost_from_start = cost_from_previous\n",
    "            elif updated_cost_from_start > recorded_cost_from_start:\n",
    "                updated_cost_from_start = recorded_cost_from_start\n",
    "               \n",
    "            if updated_cost_from_start < recorded_cost_from_start:\n",
    "                df.at[to, 'cost_from_start'] = updated_cost_from_start\n",
    "                df.at[to, 'previous'] = p\n",
    "               \n",
    "            #print('to ' + to + ' cost from prev ' + p + ' ' + str(cost_from_previous) +  ' updated? ' + str(updated_cost_from_start))\n",
    "       \n",
    "        #print(df)\n",
    "\n",
    "    #print(vertices)\n",
    "   \n",
    "    #start back tracking the routes\n",
    "    fastest_route = []\n",
    "    fastest_route.insert(0, finish)\n",
    "    current = get_vertex_before(df, finish)\n",
    "   \n",
    "    while start != current:\n",
    "        fastest_route.insert(0,current)\n",
    "        current = get_vertex_before(df, current)\n",
    "    else:\n",
    "        fastest_route.insert(0,start)\n",
    "        print('fastest route is')\n",
    "        print(fastest_route)\n",
    "\n",
    "        \n",
    "#execute\n",
    "dijskstra_greedy(routes, 'a', 'h')"
   ]
  }
 ],
 "metadata": {
  "kernelspec": {
   "display_name": "Python 3",
   "language": "python",
   "name": "python3"
  },
  "language_info": {
   "codemirror_mode": {
    "name": "ipython",
    "version": 3
   },
   "file_extension": ".py",
   "mimetype": "text/x-python",
   "name": "python",
   "nbconvert_exporter": "python",
   "pygments_lexer": "ipython3",
   "version": "3.7.4"
  }
 },
 "nbformat": 4,
 "nbformat_minor": 2
}
